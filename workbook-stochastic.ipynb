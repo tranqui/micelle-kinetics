{
 "cells": [
  {
   "cell_type": "code",
   "execution_count": 1,
   "metadata": {},
   "outputs": [],
   "source": [
    "import numpy as np, matplotlib.pyplot as plt\n",
    "import pandas as pd\n",
    "import basico as bs\n",
    "from anianssonwall.anianssonwall import AnianssonWallMaibaum"
   ]
  },
  {
   "cell_type": "code",
   "execution_count": 2,
   "metadata": {},
   "outputs": [],
   "source": [
    "ratio = 0.2\n",
    "free = 0.01\n",
    "n_mode = 20\n",
    "density = 0.01\n",
    "dt = 1e-2\n",
    "t = 1e5\n",
    "N = 50\n",
    "nruns = 25\n",
    "\n",
    "t_eval = np.linspace(0, t, 1001)\n",
    "model = AnianssonWallMaibaum(ratio, free, n_mode, density, g0=0.5)\n",
    "\n",
    "# Deterministic run for reference.\n",
    "det = model.copasi_integrate(t, dt, t_eval=t_eval)\n",
    "\n",
    "# Stochastic runs:\n",
    "data = model.copasi_integrate(t, dt, t_eval=t_eval,\n",
    "                                N=N, method='stochastic', nruns=nruns)"
   ]
  },
  {
   "cell_type": "code",
   "execution_count": null,
   "metadata": {},
   "outputs": [],
   "source": [
    "fig, (ax1, ax3) = plt.subplots(nrows=2, figsize=(3.375, 3.375), sharex=True,\n",
    "                                gridspec_kw={'hspace': 5e-2}, constrained_layout=False)\n",
    "\n",
    "\n",
    "pl1, = ax1.plot(det.time, det.cfree, '-', lw=1)\n",
    "\n",
    "ax2 = ax1.twinx()\n",
    "ax2.plot(np.nan, np.nan)\n",
    "pl2, = ax2.plot(det.time, det.cmicelle, lw=1)\n",
    "pl3, = ax3.plot(det.time, det.navg, lw=1)\n",
    "\n",
    "for df in data:\n",
    "    ax1.plot(df.time, df.cfree, ':', lw=0.25,\n",
    "                alpha=0.5, c=pl1.get_color())\n",
    "    ax2.plot(df.time, df.cmicelle, ':', lw=0.25,\n",
    "                alpha=0.5, c=pl2.get_color())\n",
    "    ax3.plot(df.time, df.navg, ':', lw=0.25,\n",
    "                alpha=0.5, c=pl3.get_color())\n",
    "\n",
    "# for ax in [ax1, ax3]: ax.set_xlabel('$t$')\n",
    "ax3.set_xlabel('$t$')\n",
    "\n",
    "ax1.set_ylabel(r'$C_\\mathrm{free}$')\n",
    "ax2.set_ylabel(r'$C_\\mathrm{mic}$', c=pl2.get_color())\n",
    "ax3.set_ylabel(r'$\\langle n \\rangle_\\mathrm{mic}$')\n",
    "\n",
    "ax3.set_ylim([5, 9])\n",
    "\n",
    "ax2.tick_params(axis='y', labelcolor=pl2.get_color())\n",
    "\n",
    "label = ax1.text(0.875, 0.8, r'\\textbf{a}', transform=ax1.transAxes,\n",
    "                    ha='left', va='bottom', fontsize=18)\n",
    "label.set_in_layout(False)\n",
    "label = ax3.text(0.875, 0.05, r'\\textbf{b}', transform=ax3.transAxes,\n",
    "                    ha='left', va='bottom', fontsize=18)\n",
    "label.set_in_layout(False)\n",
    "\n",
    "plt.show()"
   ]
  },
  {
   "cell_type": "code",
   "execution_count": null,
   "metadata": {},
   "outputs": [],
   "source": []
  }
 ],
 "metadata": {
  "kernelspec": {
   "display_name": "Python 3",
   "language": "python",
   "name": "python3"
  },
  "language_info": {
   "codemirror_mode": {
    "name": "ipython",
    "version": 3
   },
   "file_extension": ".py",
   "mimetype": "text/x-python",
   "name": "python",
   "nbconvert_exporter": "python",
   "pygments_lexer": "ipython3",
   "version": "3.13.3"
  }
 },
 "nbformat": 4,
 "nbformat_minor": 2
}
