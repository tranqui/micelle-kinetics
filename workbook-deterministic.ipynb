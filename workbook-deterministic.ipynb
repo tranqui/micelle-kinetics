{
 "cells": [
  {
   "cell_type": "code",
   "execution_count": 2,
   "metadata": {},
   "outputs": [],
   "source": [
    "import numpy as np, matplotlib.pyplot as plt\n",
    "import pandas as pd, seaborn as sb\n",
    "\n",
    "from anianssonwall.anianssonwall import *"
   ]
  },
  {
   "cell_type": "markdown",
   "metadata": {},
   "source": [
    "# 1. Toy model"
   ]
  },
  {
   "cell_type": "markdown",
   "metadata": {},
   "source": [
    "Demo kinetics for the simplified toy model used by Danov et al. (2006):"
   ]
  },
  {
   "cell_type": "code",
   "execution_count": null,
   "metadata": {},
   "outputs": [],
   "source": [
    "n_max = 50\n",
    "model = AnianssonWallCartoon(n_max)\n",
    "n = model.n\n",
    "ceq = model.steady_state(n)\n",
    "phi = np.sum(n * ceq)\n",
    "\n",
    "t_eval = [1e0, 1e1, 1e2]\n",
    "c0 = np.zeros(n_max)\n",
    "c0[0] = phi\n",
    "traj = model.integrate(c0, t_eval[-1], t_eval=t_eval).T\n",
    "\n",
    "# Show final decay mode as slowest eigenvector in steady-state:\n",
    "J = model.jacobian_rhs(ceq)\n",
    "evals, V = np.linalg.eig(J)\n",
    "order = np.argsort(np.abs(evals))\n",
    "evals, V = evals[order], V[:,order]\n",
    "assert np.abs(evals[0]) < 1e-6 # steady-state mode\n",
    "\n",
    "plt.figure(figsize=(3.375, 3))\n",
    "V[:,0] *= np.sign(V[0,0])\n",
    "V[:,0] *= np.sum(n*ceq) / np.sum(V[:,0])\n",
    "V[:,1] *= np.sign(V[0,1])\n",
    "assert np.allclose(V[:,0], n*ceq, rtol=1e-4, atol=1e-4)\n",
    "plt.step(n, V[:,1], where='mid')\n",
    "plt.xlabel('$n$')\n",
    "plt.ylabel(r'$v_n^\\infty$')\n",
    "\n",
    "# Evolution of free monomers (not in true micelle, using 6 monomer as cutoff)\n",
    "t_eval2 = np.geomspace(1e-2, 25, 1000)\n",
    "traj2 = model.integrate(c0, t_eval2[-1], t_eval=t_eval2).T\n",
    "traj2_free, traj2_micelle = traj2.copy(), traj2.copy()\n",
    "traj2_free[:,model.n_local_maximum:] = 0\n",
    "traj2_micelle[:,:model.n_local_maximum] = 0\n",
    "c_free = traj2_free.dot(n)\n",
    "c_micelle = traj2_micelle.dot(n)\n",
    "\n",
    "plt.figure(figsize=(3.375, 3))\n",
    "plt.plot(t_eval2, c_free/phi, label='free')\n",
    "plt.plot(t_eval2, c_micelle/phi, label='micelle')\n",
    "plt.xlabel('$t$')\n",
    "plt.ylabel('$p$')\n",
    "plt.legend(loc='best')"
   ]
  },
  {
   "cell_type": "code",
   "execution_count": null,
   "metadata": {},
   "outputs": [],
   "source": [
    "\n",
    "fig, (ax1, ax2) = plt.subplots(2, 1, figsize=(3.375, 3.375),\n",
    "                                height_ratios=[1, 1])\n",
    "\n",
    "ax1.step(n, ceq, where='mid', label=r'$\\infty$')\n",
    "evals = {r'$\\infty$': np.log10(-model.characteristic_rates(ceq))}\n",
    "\n",
    "for c, tt in zip(reversed(traj), reversed(t_eval)):\n",
    "    label = '$10^{:.0f}$'.format(np.log10(tt))\n",
    "    evals[label] = np.log10(-model.characteristic_rates(c))\n",
    "    pl, = ax1.step(n, c, where='mid', label=label)\n",
    "    ax2.axvline(x=np.log10(1/tt), ls='--', c=pl.get_color())\n",
    "\n",
    "evals = pd.DataFrame(evals)\n",
    "sb.boxplot(ax=ax2, data=evals, showfliers=False, orient='h',\n",
    "            width=0.95, linewidth=0.5, boxprops={'facecolor':'None'})\n",
    "sb.swarmplot(ax=ax2, data=evals, orient='h',\n",
    "            edgecolor=['k']*len(evals), linewidth=0.25, size=2.5)\n",
    "\n",
    "ax1.legend(loc='best', title='$t$')\n",
    "ax1.set_xlabel('$n$')\n",
    "ax1.set_ylabel('$c_n(t)$')\n",
    "ax1.set_xlim([0, n_max])\n",
    "ax1.set_ylim([0, 1.65])\n",
    "\n",
    "import matplotlib.ticker as ticker\n",
    "ax2.xaxis.set_major_formatter(ticker.FuncFormatter(lambda y, _: rf'$10^{{{y:g}}}$'))\n",
    "ax2.spines[['right', 'top', 'left']].set_visible(False)\n",
    "ax2.set_yticks([])\n",
    "ax2.set_xlabel(r'$|\\lambda_i|$')\n",
    "\n",
    "plt.show()"
   ]
  },
  {
   "cell_type": "markdown",
   "metadata": {},
   "source": [
    "# 2. Maibaum model"
   ]
  },
  {
   "cell_type": "markdown",
   "metadata": {},
   "source": [
    "Demo the more realistic thermodynamic model of Maibaum et al. (2004). This demo looks at the evolution of the full concentration profile and the relaxation modes.\n",
    "\n",
    "First, set up the model:"
   ]
  },
  {
   "cell_type": "code",
   "execution_count": 70,
   "metadata": {},
   "outputs": [],
   "source": [
    "ratio = 0.2\n",
    "free = 0.01\n",
    "n_mode = 20\n",
    "density = 0.01\n",
    "g0 = 0.5\n",
    "\n",
    "model = AnianssonWallMaibaum(ratio, free, n_mode, density, g0=g0)\n",
    "n = model.n\n",
    "n_max = model.n_max\n",
    "ceq = model.steady_state(n)\n",
    "phi = np.sum(n * ceq)\n",
    "assert (phi - density)**2 < 1e-8\n",
    "\n",
    "# Show final decay mode as slowest eigenvector in steady-state:\n",
    "Jeq = model.jacobian_rhs(ceq)\n",
    "evals, Veq = np.linalg.eig(Jeq)\n",
    "order = np.argsort(np.abs(evals))\n",
    "evals, Veq = evals[order], Veq[:,order]\n",
    "assert np.abs(evals[0]) < 1e-6 # steady-state mode\n",
    "Veq[:,0] *= np.sign(Veq[0,0])\n",
    "Veq[:,0] *= np.sum(n*ceq) / np.sum(Veq[:,0])\n",
    "Veq[:,1] *= np.sign(Veq[0,1])\n",
    "assert np.allclose(Veq[:,0], n*ceq, rtol=1e-4, atol=1e-4)"
   ]
  },
  {
   "cell_type": "markdown",
   "metadata": {},
   "source": [
    "Now integrate the model. This may take some time (~15 minutes on my machine)."
   ]
  },
  {
   "cell_type": "code",
   "execution_count": null,
   "metadata": {},
   "outputs": [],
   "source": [
    "N = 250\n",
    "t_eval = np.geomspace(1e-2, 1e5, 1 + 7*N)\n",
    "assert 1e4 in t_eval\n",
    "assert 1e5 in t_eval\n",
    "\n",
    "# # Uncomment for a shorter test run\n",
    "# t_eval = np.geomspace(1e-2, 1e3, 1 + 5*N)\n",
    "# assert 1e1 in t_eval\n",
    "# assert 1e2 in t_eval\n",
    "# assert 1e3 in t_eval\n",
    "\n",
    "c0 = np.zeros(n_max)\n",
    "c0[0] = density\n",
    "traj = model.integrate(c0, t_eval[-1], t_eval=t_eval).T"
   ]
  },
  {
   "cell_type": "code",
   "execution_count": null,
   "metadata": {},
   "outputs": [],
   "source": [
    "fig, (ax1, ax2, ax3) = plt.subplots(nrows=3, figsize=(3.375, 5))\n",
    "\n",
    "ax1.step(n, ceq, where='mid', label=r'$\\infty$')\n",
    "evals = {r'$\\infty$': np.log10(-model.characteristic_rates(ceq))}\n",
    "\n",
    "t_show = [1e4, 1e5]\n",
    "# t_show = [1e2, 1e3] # uncomment for shorter test runs\n",
    "\n",
    "# t_bifurcation1 = 2.512e4\n",
    "# t_bifurcation2 = 7.1775e4\n",
    "# select = np.argmin((t_eval - t_bifurcation1)**2)\n",
    "# t_bifurcation1 = t_eval[select]\n",
    "# select = np.argmin((t_eval - t_bifurcation2)**2)\n",
    "# t_bifurcation2 = t_eval[select]\n",
    "# t_show = [t_bifurcation1, t_bifurcation2]\n",
    "\n",
    "for t in reversed(t_show):\n",
    "    assert t in t_eval\n",
    "    i = np.where(t_eval == t)[0]\n",
    "    c = traj[i].reshape(-1)\n",
    "    exponent = np.floor(np.log10(abs(t)))\n",
    "    leading = np.abs(t) / (10 ** exponent)\n",
    "    label = f'10^{exponent:.0f}'\n",
    "    if leading != 1.: label = fr'{leading:.1f} \\times {label}'\n",
    "    label = f'${label}$'\n",
    "    evals[label] = np.log10(-model.characteristic_rates(c))\n",
    "    pl, = ax1.step(n, c, where='mid', label=label)\n",
    "    ax2.axvline(x=np.log10(1/t), ls='--', c=pl.get_color())\n",
    "\n",
    "evals = pd.DataFrame(evals)\n",
    "sb.boxplot(ax=ax2, data=evals, showfliers=False, orient='h',\n",
    "            width=0.95, linewidth=0.5, boxprops={'facecolor':'None'})\n",
    "sb.swarmplot(ax=ax2, data=evals, orient='h',\n",
    "            edgecolor=['k']*len(evals), linewidth=0.25, size=2.5)\n",
    "\n",
    "ax1.legend(loc='best', title='$t$')\n",
    "ax1.set_xlabel('$n$')\n",
    "ax1.set_ylabel('$c_n(t)$')\n",
    "ax1.set_xlim([0, 40])\n",
    "ax1.set_yscale('log')\n",
    "ax1.set_ylim([1e-6, 1e-3])\n",
    "ax1.set_ylim([1e-6, 1e-3])\n",
    "\n",
    "import matplotlib.ticker as ticker\n",
    "ax2.xaxis.set_major_formatter(ticker.FuncFormatter(lambda y, _: rf'$10^{{{y:g}}}$'))\n",
    "ax2.spines[['right', 'top', 'left']].set_visible(False)\n",
    "ax2.set_yticks([])\n",
    "ax2.set_xlabel(r'$|\\lambda_i|$')\n",
    "\n",
    "ax3.step(n, Veq[:,1], where='mid')\n",
    "ax3.set_xlabel('$n$')\n",
    "ax3.set_ylabel(r'$v_n^\\infty$')\n",
    "ax3.set_xlim([0, 40])\n",
    "\n",
    "label = plt.text(0.975, 0., r'\\textbf{a}', transform=ax1.transAxes, fontsize=18, ha='right', va='bottom')\n",
    "label.set_in_layout(False)\n",
    "label = plt.text(-0.15, 0.8, r'\\textbf{b}', transform=ax2.transAxes, fontsize=18, ha='left', va='bottom')\n",
    "label.set_in_layout(False)\n",
    "label = plt.text(-0.15, 0.8, r'\\textbf{c}', transform=ax3.transAxes, fontsize=18, ha='left', va='bottom')\n",
    "label.set_in_layout(False)\n",
    "\n",
    "plt.show()"
   ]
  },
  {
   "cell_type": "code",
   "execution_count": null,
   "metadata": {},
   "outputs": [],
   "source": [
    "traj_free, traj_micelle = traj.copy(), traj.copy()\n",
    "traj_free[:,model.n_local_maximum:] = 0\n",
    "traj_micelle[:,:model.n_local_maximum] = 0\n",
    "c_free = traj_free.dot(n)\n",
    "c_micelle = np.sum(traj_micelle, axis=1)\n",
    "n_micelle = np.sum(n*traj_micelle, axis=1) / c_micelle\n",
    "n_avg = np.sum(n*traj, axis=1) / np.sum(traj, axis=1)\n",
    "\n",
    "fig, (ax1, ax3) = plt.subplots(nrows=2, figsize=(3.375, 3.375), sharex=True)\n",
    "\n",
    "ax1.plot(t_eval, c_free)\n",
    "pl, = ax1.plot(np.nan, np.nan)\n",
    "ax2 = ax1.twinx()\n",
    "ax2.plot(t_eval, c_micelle, c=pl.get_color())\n",
    "ax4 = ax3.twinx()\n",
    "ax3.plot(t_eval, n_avg)\n",
    "ax4.plot(t_eval, n_micelle, c=pl.get_color())\n",
    "\n",
    "for ax in [ax1, ax3]: ax.set_xlabel('$t$')\n",
    "ax1.set_ylabel('$c_\\\\mathrm{free}$')\n",
    "ax2.set_ylabel('$c_\\\\mathrm{mic}$', c=pl.get_color())\n",
    "ax2.tick_params(axis='y', labelcolor=pl.get_color())\n",
    "\n",
    "ax3.set_ylim([1, 9])\n",
    "ax3.set_yticks(np.arange(1, 10, 2))\n",
    "ax4.set_ylim([5, 9])\n",
    "\n",
    "ax3.set_ylabel(r'$\\langle n \\rangle$')\n",
    "ax4.set_ylabel(r'$\\langle n \\rangle_\\text{mic}$', c=pl.get_color())\n",
    "ax4.tick_params(axis='y', labelcolor=pl.get_color())\n",
    "\n",
    "plt.show()"
   ]
  },
  {
   "cell_type": "markdown",
   "metadata": {},
   "source": [
    "Let's look at how the rate of the slowest eigenmode evolves in time (\"aging\"):"
   ]
  },
  {
   "cell_type": "code",
   "execution_count": 57,
   "metadata": {},
   "outputs": [],
   "source": [
    "nshow = 4\n",
    "slowest_rates = np.empty((t_eval.size, nshow))\n",
    "\n",
    "for i, c in enumerate(traj):\n",
    "    J = model.jacobian_rhs(c)\n",
    "    evals, V = np.linalg.eig(J)\n",
    "    order = np.argsort(np.abs(evals))\n",
    "    evals, V = evals[order], V[:,order]\n",
    "    assert np.abs(evals[0]) < 1e-6 # steady-state mode\n",
    "\n",
    "    slowest_rates[i] = np.abs(evals[1:1+nshow])"
   ]
  },
  {
   "cell_type": "code",
   "execution_count": null,
   "metadata": {},
   "outputs": [],
   "source": [
    "plt.figure(figsize=(3.375, 2.1))\n",
    "plt.semilogy(t_eval, slowest_rates)\n",
    "plt.xlabel('$t$')\n",
    "plt.ylabel('$|\\lambda_i|$')\n",
    "plt.ylim([1e-6, 1e-4])\n",
    "\n",
    "# plt.xlim([7.175e4, 7.185e4])\n",
    "# plt.ylim([3.18e-6, 3.22e-6])\n",
    "# plt.xlim([2.511e4, 2.513e4])\n",
    "# plt.ylim([7.575e-6, 7.581e-6])\n",
    "\n",
    "plt.show()"
   ]
  },
  {
   "cell_type": "code",
   "execution_count": 49,
   "metadata": {},
   "outputs": [],
   "source": [
    "nshow = 4\n",
    "slowest_rates = np.empty((t_eval.size, nshow))\n",
    "\n",
    "for i, c in enumerate(traj):\n",
    "    J = model.jacobian_rhs(c)\n",
    "    evals, V = np.linalg.eig(J)\n",
    "    order = np.argsort(np.abs(evals))\n",
    "    evals, V = evals[order], V[:,order]\n",
    "    assert np.abs(evals[0]) < 1e-6 # steady-state mode\n",
    "\n",
    "    slowest_rates[i] = np.imag(evals[1:1+nshow])"
   ]
  },
  {
   "cell_type": "code",
   "execution_count": null,
   "metadata": {},
   "outputs": [],
   "source": []
  }
 ],
 "metadata": {
  "kernelspec": {
   "display_name": "Python 3",
   "language": "python",
   "name": "python3"
  },
  "language_info": {
   "codemirror_mode": {
    "name": "ipython",
    "version": 3
   },
   "file_extension": ".py",
   "mimetype": "text/x-python",
   "name": "python",
   "nbconvert_exporter": "python",
   "pygments_lexer": "ipython3",
   "version": "3.13.3"
  }
 },
 "nbformat": 4,
 "nbformat_minor": 2
}
